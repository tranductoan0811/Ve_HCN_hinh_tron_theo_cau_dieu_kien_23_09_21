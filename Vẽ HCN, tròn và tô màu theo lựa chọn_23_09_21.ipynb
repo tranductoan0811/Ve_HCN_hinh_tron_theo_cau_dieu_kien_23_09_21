{
 "cells": [
  {
   "cell_type": "code",
   "execution_count": null,
   "id": "c6bdaa53",
   "metadata": {},
   "outputs": [],
   "source": [
    "import turtle"
   ]
  },
  {
   "cell_type": "code",
   "execution_count": null,
   "id": "2d4ec4ad",
   "metadata": {},
   "outputs": [],
   "source": [
    "pen = turtle.Turtle()"
   ]
  },
  {
   "cell_type": "code",
   "execution_count": null,
   "id": "3eeaf026",
   "metadata": {},
   "outputs": [],
   "source": [
    "turtle.bgcolor(\"#DAE6F0\")"
   ]
  },
  {
   "cell_type": "code",
   "execution_count": null,
   "id": "eb6e2d31",
   "metadata": {
    "scrolled": true
   },
   "outputs": [],
   "source": [
    "#Khai báo biến đầu vào hình muốn vẽ\n",
    "shape_input = input(\"circle or square, what is your favourite shape: \")\n",
    "if shape_input == \"circle\" or shape_input == \"square\":\n",
    "    print(\"Dữ liệu đầu vào hình muốn vẽ OK\")\n",
    "else:\n",
    "    print(\"Dữ liệu đầu vào hình muốn vẽ NOT OK \")"
   ]
  },
  {
   "cell_type": "code",
   "execution_count": null,
   "id": "37ba56ae",
   "metadata": {},
   "outputs": [],
   "source": [
    "#Khai báo biến đầu vào nét vẽ hình\n",
    "shape_color = input(\"Nhập mã màu nét vẽ: \") #Nhập 3 màu: yellow, red, blue\n",
    "if shape_color == \"red\" or shape_color == \"yellow\" or shape_color == \"blue\":\n",
    "    print(\"Màu nét vẽ nhập vào OK\")\n",
    "else:\n",
    "    print(\"Màu nét vẽ nhập vào NOT OK\")"
   ]
  },
  {
   "cell_type": "code",
   "execution_count": null,
   "id": "51d09a21",
   "metadata": {},
   "outputs": [],
   "source": [
    "#Vẽ hình theo tham số đầu vào\n",
    "pen.shape(shape_input)\n",
    "pen.color(shape_color)\n",
    "turtle.done()"
   ]
  }
 ],
 "metadata": {
  "kernelspec": {
   "display_name": "Python 3 (ipykernel)",
   "language": "python",
   "name": "python3"
  },
  "language_info": {
   "codemirror_mode": {
    "name": "ipython",
    "version": 3
   },
   "file_extension": ".py",
   "mimetype": "text/x-python",
   "name": "python",
   "nbconvert_exporter": "python",
   "pygments_lexer": "ipython3",
   "version": "3.9.6"
  }
 },
 "nbformat": 4,
 "nbformat_minor": 5
}
